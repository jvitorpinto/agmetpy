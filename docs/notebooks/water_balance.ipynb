{
 "cells": [
  {
   "cell_type": "markdown",
   "metadata": {},
   "source": [
    "# Water balance and crop simulations with AgmetPy\n",
    "\n",
    "AgmetPy implements a whole set of classes to calculate soil water balance and simulate the growth and development of crops with an object-oriented approach.\n",
    "\n",
    "## Soil\n",
    "\n",
    "An instance of the class `Soil` represents a soil. The characteristics of any particular soil as well as its current state are represented by the following properties:\n",
    "\n",
    "- `theta`: represents the current soil moisture, in m³/m³.\n",
    "- `theta_sat`: the soil moisture (m³/m³) at saturation (i.e., when all pores of the soil are filled with water).\n",
    "- `theta_fc`: the soil moisture at field capacity (m³/m³).\n",
    "- `theta_wp`: the soil moisture at wilting point (m³/m³).\n",
    "- `ksat`: saturated hydraulic conductivity, in m/s. Currently there is no default value, so the user must provide a value,\n",
    "but in future versions a default value will be provided based on the soil characteristics.\n",
    "- `p`: the $p$ coefficient needed to calculate the threshold moisture below which a decrease of soil moisture will cause\n",
    "a reduction of evapotranspiration (c.f. Allen et al., 1998). `p` will become a property of the class `Crop` in future\n",
    "versions of AgmetPy, in order to meet the guidelines of Allen et al. (1998).\n",
    "- `dz`: a single float number indicating the thickness of soil layers. The default value is 0.1 m.\n",
    "- `pe`: like $p$, but for soil evaporation. The default value is 0.3.\n",
    "- `ze`: the thickness of the evaporating layer. The default value is 0.1 m.\n",
    "\n",
    "For a soil to be valid, the following constraints must be met:\n",
    "0 < `theta_wp` < `theta_fc` < `theta_sat` < 1\n",
    "and\n",
    "0 ≤ `theta` ≤ `theta_sat`\n",
    "\n",
    "## Crop\n",
    "\n",
    "Crops are represented by the class `Crop`. Currently, a crop must provide the following properties.\n",
    "\n",
    "- `zr`: actual root depth (m).\n",
    "- `kcb`: the basal crop coefficient.\n",
    "- `ground_covering`: how much of the soil is covered by the canopy of the soil. This parameter is used by `Soil` to calculate the\n",
    " evaporation and the depletion of water from the evaporating layer.\n",
    "- `height`: The height of the crop, in meters. This parameter is used by `Weather` to calculate the maximum crop coefficient,\n",
    " when it is not provided.\n",
    "\n",
    "additionally, all instances of `Crop` must provide a function `root_dist`, that accepts two parameters: `zmin` and `zmax`. `root_dist` must return a `numpy.ndarray` of `float` containing numbers between 0 and 1 that indicate the fraction of the total water depth extracted by the crop is between `zmin` and `zmax`, given `zmin` ≤ `zmax`.\n",
    "\n",
    "## Weather\n",
    "\n",
    "Weather related variables are represented by `Weather`. An instance of `Weather` must provide, at least, the following set of properties:\n",
    "\n",
    "- `kc_max`: the upper limit of kc (dimensionless).\n",
    "- `rainfall`: the rainfall, in m.\n",
    "\n",
    "Additional information may be necessary to calculate or to obtain the value of the properties above.\n"
   ]
  },
  {
   "cell_type": "code",
   "execution_count": 136,
   "metadata": {},
   "outputs": [],
   "source": [
    "import agmetpy\n",
    "import numpy as np\n",
    "\n",
    "# \n",
    "rain = [\n",
    "    0.000, 0.000, 0.010, 0.000, 0.003, 0.005, 0.015, 0.008, 0.000, 0.000,\n",
    "    0.000, 0.000, 0.000, 0.057, 0.000, 0.000, 0.013, 0.023, 0.000, 0.007,\n",
    "    0.000, 0.000, 0.040, 0.000, 0.000, 0.000, 0.000, 0.000, 0.000, 0.000,\n",
    "    0.000, 0.000, 0.000, 0.000, 0.000, 0.000, 0.000, 0.000, 0.000, 0.000,\n",
    "    0.000, 0.000, 0.000, 0.000, 0.000, 0.000, 0.000, 0.000, 0.000, 0.000,\n",
    "    0.000, 0.000, 0.000, 0.000, 0.000, 0.000, 0.000, 0.000, 0.000, 0.000,\n",
    "    0.000, 0.000, 0.000, 0.000, 0.000, 0.000, 0.000, 0.000, 0.000, 0.000,\n",
    "    0.000, 0.000, 0.000, 0.000, 0.000, 0.000, 0.000, 0.000, 0.000, 0.000,\n",
    "    0.000, 0.000, 0.000, 0.000, 0.000, 0.000, 0.000, 0.000, 0.000, 0.000,\n",
    "    0.000, 0.000, 0.000, 0.000, 0.000, 0.000, 0.000, 0.000, 0.000, 0.000,\n",
    "]\n",
    "\n",
    "nlayers=30\n",
    "\n",
    "\n",
    "class CropRoot(agmetpy.CropConstant):\n",
    "    def _get_zr(self):\n",
    "        return 0.8\n",
    "\n",
    "soil = agmetpy.Soil(nlayers * [0.2], 0.28, 0.22, 0.08, 0.1/86400, dz=1/nlayers)\n",
    "crop = CropRoot(0.8, 0.5, 0.5, 0.8)\n",
    "weather = agmetpy.Weather(rainfall=rain, kc_max=1.2, et_ref = 0.005)\n",
    "man = agmetpy.wb.ManagementConstant()\n",
    "\n",
    "sim = agmetpy.Simulation(crop, soil, weather, man)"
   ]
  },
  {
   "cell_type": "markdown",
   "metadata": {},
   "source": [
    "Realize that all parameters are automatically broadcast to the same shape. So, even though a single number was provided for the parameter `theta_sat`, the actual `theta_sat` stored is an `numpy.ndarray` containing 10 numbers."
   ]
  },
  {
   "cell_type": "code",
   "execution_count": 137,
   "metadata": {},
   "outputs": [
    {
     "data": {
      "text/plain": [
       "array([0.])"
      ]
     },
     "execution_count": 137,
     "metadata": {},
     "output_type": "execute_result"
    }
   ],
   "source": [
    "soil.theta_sat\n",
    "weather['rainfall']"
   ]
  },
  {
   "cell_type": "code",
   "execution_count": 138,
   "metadata": {},
   "outputs": [],
   "source": [
    "theta = [sim.soil.theta]\n",
    "for i in sim:\n",
    "    theta.append(sim.soil.theta)"
   ]
  },
  {
   "cell_type": "code",
   "execution_count": 139,
   "metadata": {},
   "outputs": [],
   "source": [
    "theta = np.stack(theta, 1)"
   ]
  },
  {
   "cell_type": "code",
   "execution_count": 140,
   "metadata": {},
   "outputs": [
    {
     "data": {
      "text/plain": [
       "array([80.40078383, 16.30927229])"
      ]
     },
     "execution_count": 140,
     "metadata": {},
     "output_type": "execute_result"
    }
   ],
   "source": [
    "np.random.gamma((100,10), 1, )"
   ]
  },
  {
   "cell_type": "code",
   "execution_count": 141,
   "metadata": {},
   "outputs": [
    {
     "data": {
      "text/plain": [
       "<matplotlib.colorbar.Colorbar at 0x7f877c6954b0>"
      ]
     },
     "execution_count": 141,
     "metadata": {},
     "output_type": "execute_result"
    },
    {
     "data": {
      "image/png": "[encoded data removed]",
      "text/plain": [
       "<Figure size 432x288 with 2 Axes>"
      ]
     },
     "metadata": {
      "needs_background": "light"
     },
     "output_type": "display_data"
    }
   ],
   "source": [
    "import matplotlib.pyplot as plt\n",
    "\n",
    "plt.imshow(1000*theta, aspect='auto', interpolation='none', extent=(0, len(rain), 1, 0))\n",
    "plt.colorbar(label='Soil moisture (mm/m)')"
   ]
  },
  {
   "cell_type": "markdown",
   "metadata": {},
   "source": [
    "# References\n",
    "\n",
    "Allen, R. G. et al. **Crop evapotranspiration**: Guidelines for computing crop water requirements. FAO Irrigation and drainage paper 56. FAO: Rome, 1998. Available at: <[https://www.fao.org/3/X0490E/X0490E00.htm](https://www.fao.org/3/X0490E/X0490E00.htm)>."
   ]
  }
 ],
 "metadata": {
  "interpreter": {
   "hash": "f1a64104b9666bc591cbb2ef18950248de77484ca4e5ac29cd879216a269bc67"
  },
  "kernelspec": {
   "display_name": "Python 3.10.4 ('agmet')",
   "language": "python",
   "name": "python3"
  },
  "language_info": {
   "codemirror_mode": {
    "name": "ipython",
    "version": 3
   },
   "file_extension": ".py",
   "mimetype": "text/x-python",
   "name": "python",
   "nbconvert_exporter": "python",
   "pygments_lexer": "ipython3",
   "version": "3.10.4"
  },
  "orig_nbformat": 4
 },
 "nbformat": 4,
 "nbformat_minor": 2
}
