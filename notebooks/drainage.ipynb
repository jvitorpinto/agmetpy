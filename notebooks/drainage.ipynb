{
 "cells": [
  {
   "cell_type": "markdown",
   "source": [
    "# Simulating drainage in soils\n",
    "The movement of water throughout the soil profile is complex due to the great number of physical interactions between the various minerals, particle sizes, pores, water, organic matter and dissolved salts. Various formulations have been proposed to simulate this movement.\n",
    "\n",
    "The drainage function used in the crop model AquaCrop is described in the Aquacrop Reference Manual, Chapter 3 - Calculation Procedures. It is a empyrical and realistic although somewhat simple procedure, which we try to explain here, whith implementations in the Python language.\n",
    "\n",
    "These calculations are not yet implemented in AgmetPy because it would limit the flexibility to calculate the soil water balance in different timesteps (i.e. other than a day). So we look for a more general approach.\n",
    "\n",
    "## The Acracrop drainage function\n",
    "\n",
    "The drainage function is defined as\n",
    "\n",
    "$\n",
    "\\frac{d\\theta}{dt} = \\tau (\\theta_{sat} - \\theta_{fc}) \\frac{e ^ {(\\theta - \\theta_{fc})} - 1}{e ^ {(\\theta_{sat} - \\theta_{fc})} - 1}\n",
    "$\n",
    "\n",
    "where:\n",
    "*   $\\theta_{sat}$ volumetric soil moisture at saturation\n",
    "*   $\\theta$ volumetric soil moisture\n",
    "*   $\\theta_{fc}$ volumetric soil moisture at field capacity\n",
    "*   $\\tau$ drainage characteristic.\n",
    "\n",
    "The drainage characteristic $\\tau$ is calculated as a function of saturated hydraulic conductivity ($K_{sat}$), as follows\n",
    "\n",
    "$\n",
    "0 \\leq \\tau = 0.0866 K_{sat} ^ {0.35} \\leq 1\n",
    "$\n",
    "\n",
    "where $K_{sat}$ is the saturated hydraulic conductivity of the soil compartment in $\\text{mm day}^\\text{-1}$.\n",
    "\n",
    "For this purpose we will use numpy."
   ],
   "metadata": {}
  },
  {
   "cell_type": "code",
   "execution_count": 19,
   "source": [
    "import numpy as np"
   ],
   "outputs": [],
   "metadata": {}
  },
  {
   "cell_type": "markdown",
   "source": [
    "Lets create the Pythonic version of both equations above."
   ],
   "metadata": {}
  },
  {
   "cell_type": "code",
   "execution_count": 21,
   "source": [
    "def _tau(ksat):\n",
    "    '''\n",
    "    Calculates the drainage characteristic.\n",
    "\n",
    "    Parameters\n",
    "    ----------\n",
    "    ksat: float, array_like\n",
    "        saturated hydraulic conductivity [mm/day]\n",
    "\n",
    "    '''\n",
    "    return np.clip(0.0866 * ksat ** 0.35, 0, 1)\n",
    "\n",
    "def drainage_function(theta, theta_fc, theta_sat, ksat):\n",
    "    '''\n",
    "    Calculates the drainage ability for a soil layer.\n",
    "\n",
    "    Parameters\n",
    "    ----------\n",
    "    theta: float, array_like\n",
    "    soil volumetric moisture content.\n",
    "\n",
    "    theta_fc: float, array_like\n",
    "    soil volumetric moisture content at saturation.\n",
    "\n",
    "    theta_sat: float, array_like\n",
    "    soil volumetric moisture content at saturation.\n",
    "\n",
    "    ksat:\n",
    "    saturated hydraulic conductivity\n",
    "    '''\n",
    "    tau = _tau(ksat)\n",
    "    drainage_ability = tau * (theta_sat - theta_fc) * (np.exp(theta - theta_fc) - 1) / (np.exp(theta_sat - theta_fc) - 1)\n",
    "    drainage_ability = np.clip(drainage_ability, 0, np.maximum(theta - theta_fc, 0))\n",
    "    return drainage_ability"
   ],
   "outputs": [],
   "metadata": {}
  },
  {
   "cell_type": "markdown",
   "source": [
    "Lets see an example with $\\theta = 0.22$, $\\theta_{fc} = 0.180$, $\\theta_{sat} = 0.22$ and $K_{sat} = 400$. You may change the values as you want."
   ],
   "metadata": {}
  },
  {
   "cell_type": "code",
   "execution_count": 25,
   "source": [
    "# example\n",
    "drainage_function(0.22, 0.180, 0.22, 400)"
   ],
   "outputs": [
    {
     "output_type": "execute_result",
     "data": {
      "text/plain": [
       "0.028203232024876745"
      ]
     },
     "metadata": {},
     "execution_count": 25
    }
   ],
   "metadata": {}
  },
  {
   "cell_type": "code",
   "execution_count": 24,
   "source": [
    "theta = np.array([\n",
    "    0.22, 0.21, 0.20, 0.19, 0.18, 0.17, 0.16, 0.15, 0.14, 0.13\n",
    "])\n",
    "\n",
    "theta_fc = np.array([\n",
    "    0.18, 0.18, 0.18, 0.18, 0.18, 0.18, 0.18, 0.18, 0.18, 0.18\n",
    "])\n",
    "\n",
    "theta_sat = np.array([\n",
    "    0.22, 0.22, 0.22, 0.22, 0.22, 0.22, 0.22, 0.22, 0.22, 0.22\n",
    "])\n",
    "\n",
    "ksat = np.array([\n",
    "    400, 400, 400, 400, 400, 400, 400, 400, 400, 400\n",
    "])\n",
    "\n",
    "drainage_function(theta, theta_fc, theta_sat, ksat)"
   ],
   "outputs": [
    {
     "output_type": "execute_result",
     "data": {
      "text/plain": [
       "array([0.02820323, 0.02104631, 0.0139606 , 0.0069454 , 0.        ,\n",
       "       0.        , 0.        , 0.        , 0.        , 0.        ])"
      ]
     },
     "metadata": {},
     "execution_count": 24
    }
   ],
   "metadata": {}
  },
  {
   "cell_type": "code",
   "execution_count": null,
   "source": [
    "def moisture_needed(drainage_ability, theta_fc, theta_sat, ksat):\n",
    "    '''\n",
    "    Calculates the volumetric moisture necessary for a soil to have a given drainage ability.\n",
    "\n",
    "    Parameters\n",
    "    ----------\n",
    "    theta: float, array_like\n",
    "    soil volumetric moisture content.\n",
    "\n",
    "    theta_fc: float, array_like\n",
    "    soil volumetric moisture content at saturation.\n",
    "\n",
    "    theta_sat: float, array_like\n",
    "    soil volumetric moisture content at saturation.\n",
    "\n",
    "    ksat:\n",
    "    saturated hydraulic conductivity\n",
    "\n",
    "    '''\n",
    "    tau = _tau(ksat)\n",
    "    theta = np.log(1 + drainage_ability * (np.exp(theta_sat - theta_fc) - 1) / (tau * (theta_sat - theta_fc))) + theta_fc\n",
    "    exc = np.maximum(theta - theta_sat, 0)\n",
    "    theta = np.minimum(theta, theta_sat)\n",
    "    return theta, exc"
   ],
   "outputs": [],
   "metadata": {}
  },
  {
   "cell_type": "markdown",
   "source": [
    "From Aquacrop Reference Manual, Chapter 3 - Calculation procedures:\n",
    ">[...] Subsequently the soil water content of the top compartment is updated. The same calculations are repeated for the successive compartments. It is thereby assumed that the cumulative drainage amount $\\sum{D_i} = D_1 + D_2 + \\dots + D_n$ will pass through any compartment as long as its drainage ability is greater than or equal to the drainage ability of the upperlying compartment. By comparing drainage abilities and not soil water contents, the calculation procedure is independent of the soil layer to which succeeding compartments may belong.\n",
    "\n",
    ">If a compartment is reached which drainage ability is smaller than the upperlying compartment, $\\sum{D_i}$ will be stored in that compartment, thereby increasing its soil water content and its drainage ability (Fig 3.7e). If the soil water content of the compartment becomes thereby as high that its drainage ability becomes equal to the drainage ability of the upperlying compartment, the excess of the cumulative drainage amount, increased with the calculated drainage amount $D_i$ of that compartment, will be transferred to the underlying compartment (as is the case in compartment 4 and 5 of Figure 3.7e). If the entire cumulative drainage amount can be stored in a compartment without increasing its soil water content in such a way that its drainage ability becomes equal to that of the upperlying compartment (as is the case in compartment 6), only the calculated drainage amount of that compartment will be transferred to the underlying compartment. If in a compartment the soil water content remains below field capacity, its drainability is zero and no water is transferred to the underlying compartment. At the bottom of the soil profile, the remaining part of $\\sum{D}$ will be lost as deep percolation ($\\sum D =  DP$).\n",
    "[...]"
   ],
   "metadata": {}
  }
 ],
 "metadata": {
  "orig_nbformat": 4,
  "language_info": {
   "name": "python",
   "version": "3.9.5",
   "mimetype": "text/x-python",
   "codemirror_mode": {
    "name": "ipython",
    "version": 3
   },
   "pygments_lexer": "ipython3",
   "nbconvert_exporter": "python",
   "file_extension": ".py"
  },
  "kernelspec": {
   "name": "python3",
   "display_name": "Python 3.9.5 64-bit ('agmet': venv)"
  },
  "interpreter": {
   "hash": "588fee67f24cf3362fcb4924bb72c905f4ac9cf35f059c9afe4a75dc20929cba"
  }
 },
 "nbformat": 4,
 "nbformat_minor": 2
}